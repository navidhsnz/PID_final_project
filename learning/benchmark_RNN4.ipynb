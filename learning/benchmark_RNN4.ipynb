{
 "cells": [
  {
   "cell_type": "code",
   "execution_count": 1,
   "metadata": {},
   "outputs": [],
   "source": [
    "import torch\n",
    "from torchvision import transforms\n",
    "import numpy as np\n",
    "from tqdm import tqdm\n",
    "from PIL import Image\n",
    "from RNN.RNN4 import *\n"
   ]
  },
  {
   "cell_type": "code",
   "execution_count": 2,
   "metadata": {},
   "outputs": [],
   "source": [
    "def benchmark_it_RNN(data_loader, model, device):\n",
    "    differences = []\n",
    "    model.eval() \n",
    "    \n",
    "    with torch.no_grad():\n",
    "        hidden_state = None \n",
    "\n",
    "        for images, labels, actions in tqdm(data_loader):\n",
    "            images, labels, actions = images.to(device), labels.to(device), actions.to(device)\n",
    "\n",
    "            predictions, hidden_state = model(images, actions, hidden_state)\n",
    "\n",
    "            hidden_state = tuple(h.detach() for h in hidden_state)\n",
    "\n",
    "            predictions = predictions.squeeze(-1)\n",
    "\n",
    "            for pred, true_label in zip(predictions.view(-1), labels.view(-1)):\n",
    "                difference = abs((pred - true_label).item())\n",
    "                differences.append(difference)\n",
    "\n",
    "    benchmark_score = np.mean(np.abs(differences))\n",
    "\n",
    "    return benchmark_score, differences"
   ]
  },
  {
   "cell_type": "code",
   "execution_count": 3,
   "metadata": {},
   "outputs": [
    {
     "name": "stdout",
     "output_type": "stream",
     "text": [
      "RNN model loaded successfully from 'RNN/models/lane_detection_rnn_new_RNN4.pth'\n"
     ]
    },
    {
     "name": "stderr",
     "output_type": "stream",
     "text": [
      "/home/navid/Desktop/PID/PID (Copy)/PID_final_project/learning/RNN/RNN4.py:587: FutureWarning: You are using `torch.load` with `weights_only=False` (the current default value), which uses the default pickle module implicitly. It is possible to construct malicious pickle data which will execute arbitrary code during unpickling (See https://github.com/pytorch/pytorch/blob/main/SECURITY.md#untrusted-models for more details). In a future release, the default value for `weights_only` will be flipped to `True`. This limits the functions that could be executed during unpickling. Arbitrary objects will no longer be allowed to be loaded via this mode unless they are explicitly allowlisted by the user via `torch.serialization.add_safe_globals`. We recommend you start setting `weights_only=True` for any use case where you don't have full control of the loaded file. Please open an issue on GitHub for any issues related to this experimental feature.\n",
      "  model.load_state_dict(torch.load(model_path, map_location=device))\n"
     ]
    }
   ],
   "source": [
    "model_path = \"lane_detection_rnn_new_RNN4.pth\"\n",
    "input_shape = (3, 480, 640) \n",
    "rnn_hidden_size = 128\n",
    "\n",
    "device = \"cpu\" #torch.device(\"cuda\" if torch.cuda.is_available() else \"cpu\")\n",
    "model = load_RNN_model(\"RNN/models/\"+model_path, input_shape, device, rnn_hidden_size)\n",
    "\n",
    "images_dir = \"RNN/training_images/benchmark/images\"\n",
    "labels_dir = \"RNN/training_images/benchmark/labels\"\n",
    "actions_dir = \"RNN/training_images/benchmark/actions\"\n",
    "transform = get_transform()\n",
    "\n",
    "seq_length = 20 \n",
    "batch_size = 1 \n",
    "\n",
    "benchmark_loader = get_sequential_dataloader(\n",
    "    images_dir, labels_dir,actions_dir, batch_size=batch_size, seq_length=seq_length,\n",
    "    train_fraction=0.0, val_fraction=0.0, test_fraction=1.0 \n",
    ")[2]\n"
   ]
  },
  {
   "cell_type": "code",
   "execution_count": 4,
   "metadata": {},
   "outputs": [
    {
     "name": "stderr",
     "output_type": "stream",
     "text": [
      "100%|██████████| 50/50 [01:20<00:00,  1.60s/it]"
     ]
    },
    {
     "name": "stdout",
     "output_type": "stream",
     "text": [
      "benchmark score (average difference): 0.01771347\n"
     ]
    },
    {
     "name": "stderr",
     "output_type": "stream",
     "text": [
      "\n"
     ]
    }
   ],
   "source": [
    "benchmark_score, differences = benchmark_it_RNN(benchmark_loader, model, device)\n",
    "\n",
    "print(f\"benchmark score (average difference): {benchmark_score:.8f}\")\n"
   ]
  }
 ],
 "metadata": {
  "kernelspec": {
   "display_name": "Python 3",
   "language": "python",
   "name": "python3"
  },
  "language_info": {
   "codemirror_mode": {
    "name": "ipython",
    "version": 3
   },
   "file_extension": ".py",
   "mimetype": "text/x-python",
   "name": "python",
   "nbconvert_exporter": "python",
   "pygments_lexer": "ipython3",
   "version": "3.12.3"
  }
 },
 "nbformat": 4,
 "nbformat_minor": 2
}
