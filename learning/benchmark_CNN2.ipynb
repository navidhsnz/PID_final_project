{
 "cells": [
  {
   "cell_type": "code",
   "execution_count": 1,
   "metadata": {},
   "outputs": [
    {
     "data": {
      "text/plain": [
       "device(type='cuda')"
      ]
     },
     "execution_count": 1,
     "metadata": {},
     "output_type": "execute_result"
    }
   ],
   "source": [
    "import torch\n",
    "from torchvision import transforms\n",
    "import numpy as np\n",
    "from tqdm import tqdm\n",
    "from PIL import Image\n",
    "from CNN.CNN2 import *\n",
    "device = torch.device(\"cuda\" if torch.cuda.is_available() else \"cpu\")\n",
    "device"
   ]
  },
  {
   "cell_type": "code",
   "execution_count": 4,
   "metadata": {},
   "outputs": [],
   "source": [
    "def benchmark_it_CNN(data_loader, model):\n",
    "    differences = []\n",
    "\n",
    "    with torch.no_grad():\n",
    "        for images, labels in tqdm(data_loader):\n",
    "            images, labels = images.to(device), labels.to(device)\n",
    "\n",
    "            predictions = model(images).squeeze()\n",
    "            # print(\"compare: \", predictions.item(), labels.item())\n",
    "            difference = abs((predictions - labels).item())\n",
    "            differences.append(difference)\n",
    "\n",
    "    benchmark_score = np.mean(np.abs(differences))\n",
    "    return benchmark_score, differences\n"
   ]
  },
  {
   "cell_type": "code",
   "execution_count": 5,
   "metadata": {},
   "outputs": [
    {
     "name": "stdout",
     "output_type": "stream",
     "text": [
      "CNN model loaded successfully from 'CNN/models/lane_detection_CNN2.pth'\n"
     ]
    }
   ],
   "source": [
    "model_path = \"CNN/models/lane_detection_CNN2.pth\"  \n",
    "input_shape = (3, 480, 640)\n",
    "model = load_CNN_model(model_path, input_shape, device)\n",
    "\n",
    "images_dir = \"datasets/benchmark/images\"\n",
    "labels_dir = \"datasets/benchmark/labels\"\n",
    "transform = get_transform()\n",
    "\n",
    "dataset = LaneDataset(image_dir=images_dir, label_dir=labels_dir, transform=transform)\n",
    "loader = DataLoader(dataset, batch_size=1, shuffle=False)\n",
    "\n"
   ]
  },
  {
   "cell_type": "code",
   "execution_count": 6,
   "metadata": {},
   "outputs": [
    {
     "name": "stderr",
     "output_type": "stream",
     "text": [
      "100%|██████████| 1000/1000 [00:13<00:00, 76.40it/s]\n"
     ]
    }
   ],
   "source": [
    "benchmark_score, differences = benchmark_it_CNN(loader, model)"
   ]
  },
  {
   "cell_type": "code",
   "execution_count": 7,
   "metadata": {},
   "outputs": [
    {
     "data": {
      "text/plain": [
       "np.float64(0.004983748001686763)"
      ]
     },
     "execution_count": 7,
     "metadata": {},
     "output_type": "execute_result"
    }
   ],
   "source": [
    "benchmark_score"
   ]
  },
  {
   "cell_type": "code",
   "execution_count": null,
   "metadata": {},
   "outputs": [],
   "source": []
  }
 ],
 "metadata": {
  "kernelspec": {
   "display_name": "base",
   "language": "python",
   "name": "python3"
  },
  "language_info": {
   "codemirror_mode": {
    "name": "ipython",
    "version": 3
   },
   "file_extension": ".py",
   "mimetype": "text/x-python",
   "name": "python",
   "nbconvert_exporter": "python",
   "pygments_lexer": "ipython3",
   "version": "3.12.2"
  }
 },
 "nbformat": 4,
 "nbformat_minor": 2
}
