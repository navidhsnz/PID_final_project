{
 "cells": [
  {
   "cell_type": "code",
   "execution_count": 1,
   "metadata": {},
   "outputs": [],
   "source": [
    "import torch\n",
    "from torchvision import transforms\n",
    "import numpy as np\n",
    "from tqdm import tqdm\n",
    "from PIL import Image\n",
    "from RNN.RNN1 import *\n"
   ]
  },
  {
   "cell_type": "code",
   "execution_count": 2,
   "metadata": {},
   "outputs": [],
   "source": [
    "def benchmark_it_RNN(data_loader, model, device):\n",
    "    differences = []\n",
    "    model.eval() \n",
    "    \n",
    "    with torch.no_grad():\n",
    "        hidden_state = None \n",
    "\n",
    "        for images, labels in tqdm(data_loader):\n",
    "            images, labels = images.to(device), labels.to(device)\n",
    "            predictions, hidden_state = model(images, hidden_state)\n",
    "\n",
    "            hidden_state = tuple(h.detach() for h in hidden_state)\n",
    "\n",
    "            predictions = predictions.squeeze(-1)\n",
    "\n",
    "            for pred, true_label in zip(predictions.view(-1), labels.view(-1)):\n",
    "                difference = abs((pred - true_label).item())\n",
    "                differences.append(difference)\n",
    "\n",
    "    benchmark_score = np.mean(np.abs(differences))\n",
    "\n",
    "    return benchmark_score, differences"
   ]
  },
  {
   "cell_type": "code",
   "execution_count": 4,
   "metadata": {},
   "outputs": [
    {
     "name": "stdout",
     "output_type": "stream",
     "text": [
      "RNN model loaded from 'RNN/models/lane_detection_rnn_new_RNN1.pth'\n"
     ]
    }
   ],
   "source": [
    "model_path = \"lane_detection_rnn_new_RNN1.pth\"\n",
    "input_shape = (3, 480, 640) \n",
    "rnn_hidden_size = 128\n",
    "\n",
    "device = \"cpu\" #torch.device(\"cuda\" if torch.cuda.is_available() else \"cpu\")\n",
    "model = load_RNN_model(\"RNN/models/\"+model_path, input_shape, device, rnn_hidden_size)\n",
    "\n",
    "images_dir = \"datasets/benchmark/images\"\n",
    "labels_dir = \"datasets/benchmark/labels\"\n",
    "transform = get_transform()\n",
    "\n",
    "seq_length = 20 \n",
    "batch_size = 1 \n",
    "\n",
    "benchmark_loader = get_sequential_dataloader(\n",
    "    images_dir, labels_dir, batch_size=batch_size, seq_length=seq_length,\n",
    "    train_fraction=0.0, val_fraction=0.0, test_fraction=1.0 \n",
    ")[2]\n"
   ]
  },
  {
   "cell_type": "code",
   "execution_count": 5,
   "metadata": {},
   "outputs": [
    {
     "name": "stderr",
     "output_type": "stream",
     "text": [
      "100%|██████████| 50/50 [00:25<00:00,  1.96it/s]"
     ]
    },
    {
     "name": "stdout",
     "output_type": "stream",
     "text": [
      "benchmark score (average difference): 0.01419988\n"
     ]
    },
    {
     "name": "stderr",
     "output_type": "stream",
     "text": [
      "\n"
     ]
    }
   ],
   "source": [
    "benchmark_score, differences = benchmark_it_RNN(benchmark_loader, model, device)\n",
    "\n",
    "print(f\"benchmark score (average difference): {benchmark_score:.8f}\")\n"
   ]
  },
  {
   "cell_type": "code",
   "execution_count": null,
   "metadata": {},
   "outputs": [],
   "source": []
  }
 ],
 "metadata": {
  "kernelspec": {
   "display_name": "base",
   "language": "python",
   "name": "python3"
  },
  "language_info": {
   "codemirror_mode": {
    "name": "ipython",
    "version": 3
   },
   "file_extension": ".py",
   "mimetype": "text/x-python",
   "name": "python",
   "nbconvert_exporter": "python",
   "pygments_lexer": "ipython3",
   "version": "3.12.2"
  }
 },
 "nbformat": 4,
 "nbformat_minor": 2
}
